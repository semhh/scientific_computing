{
 "cells": [
  {
   "cell_type": "code",
   "execution_count": null,
   "id": "e43eec82",
   "metadata": {},
   "outputs": [],
   "source": [
    "import time\n",
    "\n",
    "startTime = time.time()"
   ]
  },
  {
   "cell_type": "code",
   "execution_count": null,
   "id": "a0aaed5f",
   "metadata": {},
   "outputs": [],
   "source": [
    "def Convert(string):\n",
    "    #convert string to list\n",
    "    list1=[]\n",
    "    list1[:0]=string\n",
    "    \n",
    "    return list1"
   ]
  },
  {
   "cell_type": "code",
   "execution_count": null,
   "id": "2722a326",
   "metadata": {},
   "outputs": [],
   "source": [
    "def listToString(s): \n",
    "    \n",
    "    # initialize an empty string\n",
    "    str1 = \"\" \n",
    "    # traverse in the string  \n",
    "    for ele in s: \n",
    "        str1 += ele  \n",
    "    # return string  \n",
    "    return str1"
   ]
  },
  {
   "cell_type": "code",
   "execution_count": null,
   "id": "b2a3692f",
   "metadata": {},
   "outputs": [],
   "source": [
    "def release_data_strctr(a):\n",
    "    del a"
   ]
  },
  {
   "cell_type": "code",
   "execution_count": null,
   "id": "051e8be1",
   "metadata": {},
   "outputs": [],
   "source": [
    "def substrings(s1, s2, length):\n",
    "    \n",
    "    temp = Convert(s1[:length])\n",
    "    common_list = []\n",
    "      \n",
    "    for i in range(len(s1)-length+1):\n",
    "        if listToString(temp) in s2:\n",
    "            common_list.append(listToString(temp))\n",
    "\n",
    "        temp.pop(0)\n",
    "        if(len(s1)-i>length):\n",
    "            temp.append(s1[length+i])\n",
    "    \n",
    "    release_data_strctr(temp)\n",
    "    return common_list"
   ]
  },
  {
   "cell_type": "markdown",
   "id": "ed1c986a",
   "metadata": {},
   "source": [
    "Please change below \"if(read_num_lines>10):\" statement's 10 value to read another number of lines"
   ]
  },
  {
   "cell_type": "code",
   "execution_count": null,
   "id": "b92d8a14",
   "metadata": {},
   "outputs": [],
   "source": [
    "def probes(fileName, probeLen):\n",
    "    \n",
    "    #starting with reading file\n",
    "    # I have used \"with\" because of after reading file you don't need to be worry about if file closed or not.\n",
    "    # I put datasets inside a set thus there are no same dataset in the set. After that for examin datasets I assign data set\n",
    "    # to list.\n",
    "    \n",
    "    main_data_list = []\n",
    "    short_str_list = []\n",
    "    common_sub_str = []\n",
    "    read_num_lines = 1\n",
    "    \n",
    "    with open(fileName, \"r\") as fp:\n",
    "        for i in fp.readlines():\n",
    "            read_num_lines += 1\n",
    "            tmp = i.split(\"\\n\")\n",
    "            if((\"N\" in tmp[0])==False and tmp[0] not in main_data_list):\n",
    "                main_data_list.append((str(tmp[0])))\n",
    "            if(read_num_lines>10):  # this value for how much lines should program read if you want read more line change this value\n",
    "                break\n",
    "    \n",
    "    release_data_strctr(i) #release i\n",
    "    release_data_strctr(tmp) #release tmp\n",
    "    fp.close()\n",
    "\n",
    "    #The below three 27000 values are shows the lenght of a sequance\n",
    "    for j in range(len(main_data_list)):\n",
    "        if(len(main_data_list[j])<27000): \n",
    "            short_str_list.append(j)\n",
    "        if(len(main_data_list[j])>27000):\n",
    "            main_data_list[j] = main_data_list[j][0:27000]\n",
    "           \n",
    "    #deleting the sort sequences    \n",
    "    for k in range(len(short_str_list)):\n",
    "        main_data_list.pop(short_str_list[k])\n",
    "        main_data_list.insert(short_str_list[k],\"\")\n",
    "        \n",
    "    while \"\" in main_data_list:\n",
    "        main_data_list.remove(\"\")    \n",
    "    \n",
    "    #comparing all sequences with substrings() method. Ex. index 0->1,2,3; 1->2,3; 2->3\n",
    "    for t in range(len(main_data_list)-1):\n",
    "        for q in range(t+1,len(main_data_list)):\n",
    "            common_sub_str += list(substrings(main_data_list[t], main_data_list[q],probeLen))\n",
    "    \n",
    "    common_sub_str = set(common_sub_str)\n",
    "    common_sub_str = Convert(common_sub_str)\n",
    "    \n",
    "    #counting max common number of sequences\n",
    "    count_sub_string = 0\n",
    "    max = 0\n",
    "    for i1 in range(len(common_sub_str)):\n",
    "        for q1 in range(len(main_data_list)):\n",
    "            if common_sub_str[i1] in main_data_list[q1]:\n",
    "                count_sub_string += 1\n",
    "                if(max<count_sub_string):\n",
    "                    max = count_sub_string\n",
    "        count_sub_string = 0\n",
    "        \n",
    "    num_of_common = len(common_sub_str)\n",
    "    print(\"{} {}\".format(len(main_data_list),max))\n",
    "    print(\"{}\".format(num_of_common))\n",
    "    \n",
    "    common_sub_str = sorted(common_sub_str)\n",
    "    \n",
    "    for i2 in range(len(common_sub_str)):\n",
    "        print(common_sub_str[i2])\n",
    "            \n",
    "    return main_data_list"
   ]
  },
  {
   "cell_type": "code",
   "execution_count": null,
   "id": "e14d4cb8",
   "metadata": {},
   "outputs": [],
   "source": [
    "import contextlib\n",
    " \n",
    "file_path = 'output.txt'\n",
    "with open(file_path, \"w\") as o:\n",
    "    with contextlib.redirect_stdout(o):\n",
    "        data_list = probes(\"turkey.txt\", 90)"
   ]
  },
  {
   "cell_type": "code",
   "execution_count": null,
   "id": "c375ceac",
   "metadata": {},
   "outputs": [],
   "source": [
    "endTime = time.time()\n",
    "elapsedTime = endTime- startTime\n",
    "print(\"Elapsed Time : {}\".format(elapsedTime))"
   ]
  }
 ],
 "metadata": {
  "kernelspec": {
   "display_name": "Python 3",
   "language": "python",
   "name": "python3"
  },
  "language_info": {
   "codemirror_mode": {
    "name": "ipython",
    "version": 3
   },
   "file_extension": ".py",
   "mimetype": "text/x-python",
   "name": "python",
   "nbconvert_exporter": "python",
   "pygments_lexer": "ipython3",
   "version": "3.8.8"
  }
 },
 "nbformat": 4,
 "nbformat_minor": 5
}
